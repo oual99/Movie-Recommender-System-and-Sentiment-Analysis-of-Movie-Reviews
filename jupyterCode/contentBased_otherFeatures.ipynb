{
 "cells": [
  {
   "cell_type": "markdown",
   "id": "202cfab3",
   "metadata": {},
   "source": [
    "# Compute the similarity between movies based on other features"
   ]
  },
  {
   "cell_type": "code",
   "execution_count": 1,
   "id": "00db2bdc",
   "metadata": {},
   "outputs": [],
   "source": [
    "import pandas as pd\n",
    "import numpy as np\n",
    "from sklearn.feature_extraction.text import TfidfVectorizer\n",
    "from sklearn.metrics.pairwise import cosine_similarity\n",
    "import pickle"
   ]
  },
  {
   "cell_type": "code",
   "execution_count": 2,
   "id": "e32f2d19",
   "metadata": {},
   "outputs": [
    {
     "data": {
      "text/plain": [
       "(49716, 17)"
      ]
     },
     "execution_count": 2,
     "metadata": {},
     "output_type": "execute_result"
    }
   ],
   "source": [
    "data = pd.read_csv('data_movies_final.csv', low_memory=False)\n",
    "data.shape"
   ]
  },
  {
   "cell_type": "code",
   "execution_count": 3,
   "id": "7dfe73d5",
   "metadata": {},
   "outputs": [
    {
     "data": {
      "text/plain": [
       "(4977, 17)"
      ]
     },
     "execution_count": 3,
     "metadata": {},
     "output_type": "execute_result"
    }
   ],
   "source": [
    "q_movies = pd.read_csv('topMovies.csv', low_memory=False)\n",
    "q_movies.shape"
   ]
  },
  {
   "cell_type": "code",
   "execution_count": 4,
   "id": "b8de7453",
   "metadata": {},
   "outputs": [
    {
     "data": {
      "text/html": [
       "<div>\n",
       "<style scoped>\n",
       "    .dataframe tbody tr th:only-of-type {\n",
       "        vertical-align: middle;\n",
       "    }\n",
       "\n",
       "    .dataframe tbody tr th {\n",
       "        vertical-align: top;\n",
       "    }\n",
       "\n",
       "    .dataframe thead th {\n",
       "        text-align: right;\n",
       "    }\n",
       "</style>\n",
       "<table border=\"1\" class=\"dataframe\">\n",
       "  <thead>\n",
       "    <tr style=\"text-align: right;\">\n",
       "      <th></th>\n",
       "      <th>title</th>\n",
       "      <th>soup</th>\n",
       "    </tr>\n",
       "  </thead>\n",
       "  <tbody>\n",
       "    <tr>\n",
       "      <th>0</th>\n",
       "      <td>toystory</td>\n",
       "      <td>tomhanks timallen donrickles tomhanks en johnl...</td>\n",
       "    </tr>\n",
       "    <tr>\n",
       "      <th>1</th>\n",
       "      <td>jumanji</td>\n",
       "      <td>robinwilliams kirstendunst bradleypierce robin...</td>\n",
       "    </tr>\n",
       "    <tr>\n",
       "      <th>2</th>\n",
       "      <td>grumpieroldmen</td>\n",
       "      <td>waltermatthau jacklemmon ann-margret waltermat...</td>\n",
       "    </tr>\n",
       "  </tbody>\n",
       "</table>\n",
       "</div>"
      ],
      "text/plain": [
       "            title                                               soup\n",
       "0        toystory  tomhanks timallen donrickles tomhanks en johnl...\n",
       "1         jumanji  robinwilliams kirstendunst bradleypierce robin...\n",
       "2  grumpieroldmen  waltermatthau jacklemmon ann-margret waltermat..."
      ]
     },
     "execution_count": 4,
     "metadata": {},
     "output_type": "execute_result"
    }
   ],
   "source": [
    "# Print the new features of the first 3 films\n",
    "data[['title', 'soup']].head(3)"
   ]
  },
  {
   "cell_type": "code",
   "execution_count": 5,
   "id": "3c0f64db",
   "metadata": {},
   "outputs": [],
   "source": [
    "# Import CountVectorizer and create the count matrix\n",
    "from sklearn.feature_extraction.text import CountVectorizer\n",
    "\n",
    "count = CountVectorizer(stop_words='english')\n",
    "count_matrix = count.fit_transform(data['soup'])"
   ]
  },
  {
   "cell_type": "code",
   "execution_count": 6,
   "id": "529fd7f6",
   "metadata": {},
   "outputs": [
    {
     "data": {
      "text/plain": [
       "(49716, 75129)"
      ]
     },
     "execution_count": 6,
     "metadata": {},
     "output_type": "execute_result"
    }
   ],
   "source": [
    "count_matrix.shape"
   ]
  },
  {
   "cell_type": "code",
   "execution_count": 7,
   "id": "cf8ebbb2",
   "metadata": {},
   "outputs": [],
   "source": [
    "from sklearn.metrics.pairwise import cosine_similarity\n",
    "\n",
    "cosine_sim_otherFeatures = cosine_similarity(count_matrix, count_matrix)"
   ]
  },
  {
   "cell_type": "code",
   "execution_count": 8,
   "id": "fc6cff96",
   "metadata": {},
   "outputs": [
    {
     "data": {
      "text/plain": [
       "(49716, 49716)"
      ]
     },
     "execution_count": 8,
     "metadata": {},
     "output_type": "execute_result"
    }
   ],
   "source": [
    "cosine_sim_otherFeatures.shape"
   ]
  },
  {
   "cell_type": "code",
   "execution_count": null,
   "id": "80eed7c4",
   "metadata": {},
   "outputs": [],
   "source": []
  },
  {
   "cell_type": "code",
   "execution_count": 9,
   "id": "95ccfaa6",
   "metadata": {},
   "outputs": [],
   "source": [
    "topMovID = q_movies['id'].tolist()\n",
    "indx = []\n",
    "for i in topMovID:\n",
    "    indx.append(np.where(data['id']==i)[0][0])"
   ]
  },
  {
   "cell_type": "code",
   "execution_count": 10,
   "id": "9c8cf710",
   "metadata": {},
   "outputs": [
    {
     "data": {
      "text/plain": [
       "(49716, 4977)"
      ]
     },
     "execution_count": 10,
     "metadata": {},
     "output_type": "execute_result"
    }
   ],
   "source": [
    "cosine_sim_otherFeatures_topMov = cosine_sim_otherFeatures[:, indx]\n",
    "cosine_sim_otherFeatures_topMov.shape"
   ]
  },
  {
   "cell_type": "code",
   "execution_count": 11,
   "id": "79fba965",
   "metadata": {},
   "outputs": [],
   "source": [
    "f = open('cosine_sim_otherFeatures_topMov.pckl', 'wb')\n",
    "pickle.dump(cosine_sim_otherFeatures_topMov, f)\n",
    "f.close()"
   ]
  },
  {
   "cell_type": "code",
   "execution_count": null,
   "id": "fcf3ecff",
   "metadata": {},
   "outputs": [],
   "source": [
    "\"\"\"f = open('cosine_sim_otherFeatures_topMov.pckl', 'rb')\n",
    "cosine_sim_otherFeatures_topMov = pickle.load(f)\n",
    "f.close()\"\"\""
   ]
  },
  {
   "cell_type": "code",
   "execution_count": 12,
   "id": "2f51bbfc",
   "metadata": {},
   "outputs": [],
   "source": [
    "#Construct a reverse map of indices and movie titles\n",
    "indices = pd.Series(data.index, index=data['title'])"
   ]
  },
  {
   "cell_type": "code",
   "execution_count": 13,
   "id": "41b946ee",
   "metadata": {},
   "outputs": [],
   "source": [
    "# Function to convert all strings to lower case and strip names of spaces\n",
    "def lower_noSpace(x):\n",
    "    if isinstance(x, list):\n",
    "        return [str.lower(i.replace(\" \", \"\")) for i in x]\n",
    "    else:\n",
    "        #Check if director exists. If not, return empty string\n",
    "        if isinstance(x, str):\n",
    "            return str.lower(x.replace(\" \", \"\"))\n",
    "        else:\n",
    "            return ''"
   ]
  },
  {
   "cell_type": "code",
   "execution_count": 14,
   "id": "f957d772",
   "metadata": {},
   "outputs": [],
   "source": [
    "# Function that takes in movie title as input and outputs most similar movies\n",
    "def get_recommendations(title, cosine_sim):\n",
    "    title = lower_noSpace(title)\n",
    "    \n",
    "    # Get the index of the movie that matches the title\n",
    "    idx = indices[title]\n",
    "\n",
    "    # Get the pairwsie similarity scores of all movies with that movie\n",
    "    sim_scores = []\n",
    "    for i,sim in enumerate(cosine_sim[idx]):\n",
    "        sim_scores.append([indx[i],sim])\n",
    "\n",
    "    # Sort the movies based on the similarity scores\n",
    "    sim_scores = sorted(sim_scores, key=lambda x: x[1], reverse=True)\n",
    "\n",
    "    # Get the scores of the 10 most similar movies\n",
    "    sim_scores = sim_scores[0:11]\n",
    "\n",
    "    # Get the movie indices\n",
    "    movie_indices = [i[0] for i in sim_scores]\n",
    "\n",
    "    # Return the top 10 most similar movies\n",
    "    return data['title'].iloc[movie_indices]"
   ]
  },
  {
   "cell_type": "code",
   "execution_count": 17,
   "id": "5af71e8b",
   "metadata": {},
   "outputs": [
    {
     "data": {
      "text/plain": [
       "22002          thewolfofwallstreet\n",
       "47008    onceuponatime…inhollywood\n",
       "9522                    theaviator\n",
       "5817                gangsofnewyork\n",
       "5850               catchmeifyoucan\n",
       "144           thebasketballdiaries\n",
       "14767                shutterisland\n",
       "17984                      j.edgar\n",
       "1638                       titanic\n",
       "20794               thegreatgatsby\n",
       "13203            revolutionaryroad\n",
       "Name: title, dtype: object"
      ]
     },
     "execution_count": 17,
     "metadata": {},
     "output_type": "execute_result"
    }
   ],
   "source": [
    "get_recommendations('the wolf of wall street', cosine_sim_otherFeatures_topMov)"
   ]
  },
  {
   "cell_type": "code",
   "execution_count": null,
   "id": "2e4a6883",
   "metadata": {},
   "outputs": [],
   "source": []
  },
  {
   "cell_type": "code",
   "execution_count": null,
   "id": "cf711f8a",
   "metadata": {},
   "outputs": [],
   "source": []
  }
 ],
 "metadata": {
  "kernelspec": {
   "display_name": "Python 3",
   "language": "python",
   "name": "python3"
  },
  "language_info": {
   "codemirror_mode": {
    "name": "ipython",
    "version": 3
   },
   "file_extension": ".py",
   "mimetype": "text/x-python",
   "name": "python",
   "nbconvert_exporter": "python",
   "pygments_lexer": "ipython3",
   "version": "3.7.4"
  }
 },
 "nbformat": 4,
 "nbformat_minor": 5
}
