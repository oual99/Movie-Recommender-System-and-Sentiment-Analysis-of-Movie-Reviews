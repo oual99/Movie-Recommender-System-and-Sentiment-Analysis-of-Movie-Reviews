{
 "cells": [
  {
   "cell_type": "code",
   "execution_count": 1,
   "metadata": {},
   "outputs": [],
   "source": [
    "import numpy as np \n",
    "import pandas as pd \n",
    "import pickle\n"
   ]
  },
  {
   "cell_type": "markdown",
   "metadata": {},
   "source": [
    "## load data"
   ]
  },
  {
   "cell_type": "code",
   "execution_count": null,
   "metadata": {},
   "outputs": [],
   "source": [
    "data=pd.DataFrame()\n",
    "#we scraped data from imdb ,we can't share it\n",
    "for i in range(1,5):\n",
    "    for j in range(1,5):\n",
    "        temp=pd.read_csv(\"./\"+str(i)+\"/result\"+str(j)+\".csv\")\n",
    "        data=pd.concat([temp,data])\n",
    "data=data.reset_index()   \n",
    "    "
   ]
  },
  {
   "cell_type": "markdown",
   "metadata": {},
   "source": [
    "Number of rows in our data"
   ]
  },
  {
   "cell_type": "code",
   "execution_count": 121,
   "metadata": {},
   "outputs": [
    {
     "data": {
      "text/plain": [
       "2580220"
      ]
     },
     "execution_count": 121,
     "metadata": {},
     "output_type": "execute_result"
    }
   ],
   "source": [
    "len(data)"
   ]
  },
  {
   "cell_type": "code",
   "execution_count": 122,
   "metadata": {},
   "outputs": [
    {
     "data": {
      "text/plain": [
       "index         370305\n",
       "Unnamed: 0    370305\n",
       "id             45386\n",
       "user          689987\n",
       "rate              10\n",
       "dtype: int64"
      ]
     },
     "execution_count": 122,
     "metadata": {},
     "output_type": "execute_result"
    }
   ],
   "source": [
    "data.nunique()"
   ]
  },
  {
   "cell_type": "code",
   "execution_count": 123,
   "metadata": {},
   "outputs": [
    {
     "data": {
      "text/plain": [
       "(2580220, 5)"
      ]
     },
     "execution_count": 123,
     "metadata": {},
     "output_type": "execute_result"
    }
   ],
   "source": [
    "data.shape"
   ]
  },
  {
   "cell_type": "code",
   "execution_count": 124,
   "metadata": {},
   "outputs": [],
   "source": [
    "data.rename(columns = {'id':'imdb_id'}, inplace = True)"
   ]
  },
  {
   "cell_type": "code",
   "execution_count": 125,
   "metadata": {},
   "outputs": [
    {
     "data": {
      "text/plain": [
       "Index(['index', 'Unnamed: 0', 'imdb_id', 'user', 'rate'], dtype='object')"
      ]
     },
     "execution_count": 125,
     "metadata": {},
     "output_type": "execute_result"
    }
   ],
   "source": [
    "data.columns"
   ]
  },
  {
   "cell_type": "markdown",
   "metadata": {},
   "source": [
    "## cleaning data"
   ]
  },
  {
   "cell_type": "code",
   "execution_count": 157,
   "metadata": {},
   "outputs": [],
   "source": [
    "del data['Unnamed: 0']\n",
    "del data['index']"
   ]
  },
  {
   "cell_type": "code",
   "execution_count": 8,
   "metadata": {},
   "outputs": [],
   "source": [
    "data_movie=pd.read_csv(\"data_movies_final.csv\")"
   ]
  },
  {
   "cell_type": "code",
   "execution_count": 128,
   "metadata": {},
   "outputs": [
    {
     "data": {
      "text/plain": [
       "id                      49716\n",
       "imdb_id                 48563\n",
       "release_date            49033\n",
       "title                   49716\n",
       "original_language       49716\n",
       "genres                  49716\n",
       "popularity              49716\n",
       "production_companies    49716\n",
       "production_countries    49716\n",
       "vote_average            49716\n",
       "vote_count              49716\n",
       "overview                49143\n",
       "runtime                 49597\n",
       "casts                   49716\n",
       "directors               49716\n",
       "main_actor              47335\n",
       "soup                    49716\n",
       "score                   49716\n",
       "dtype: int64"
      ]
     },
     "execution_count": 128,
     "metadata": {},
     "output_type": "execute_result"
    }
   ],
   "source": [
    "data_movie.count()"
   ]
  },
  {
   "cell_type": "code",
   "execution_count": 129,
   "metadata": {},
   "outputs": [
    {
     "data": {
      "text/plain": [
       "id                      49716\n",
       "imdb_id                 48560\n",
       "release_date            18880\n",
       "title                   45337\n",
       "original_language         102\n",
       "genres                   2176\n",
       "popularity              15165\n",
       "production_companies    29854\n",
       "production_countries     2731\n",
       "vote_average               89\n",
       "vote_count               3331\n",
       "overview                49081\n",
       "runtime                   303\n",
       "casts                   46418\n",
       "directors               21421\n",
       "main_actor              20883\n",
       "soup                    48904\n",
       "score                   14645\n",
       "dtype: int64"
      ]
     },
     "execution_count": 129,
     "metadata": {},
     "output_type": "execute_result"
    }
   ],
   "source": [
    "data_movie.nunique()"
   ]
  },
  {
   "cell_type": "code",
   "execution_count": 130,
   "metadata": {},
   "outputs": [
    {
     "data": {
      "text/plain": [
       "imdb_id    2580220\n",
       "user       2580214\n",
       "rate       2580220\n",
       "dtype: int64"
      ]
     },
     "execution_count": 130,
     "metadata": {},
     "output_type": "execute_result"
    }
   ],
   "source": [
    "data.count()"
   ]
  },
  {
   "cell_type": "code",
   "execution_count": 131,
   "metadata": {},
   "outputs": [],
   "source": [
    "data=pd.merge(data, data_movie[['id','imdb_id']], on=\"imdb_id\")"
   ]
  },
  {
   "cell_type": "code",
   "execution_count": 132,
   "metadata": {},
   "outputs": [],
   "source": [
    "data=data.drop_duplicates(subset=['id','imdb_id','user','rate'])\n",
    "data=data.reset_index() "
   ]
  },
  {
   "cell_type": "code",
   "execution_count": 133,
   "metadata": {},
   "outputs": [
    {
     "data": {
      "text/plain": [
       "index      2497056\n",
       "imdb_id    2497056\n",
       "user       2497050\n",
       "rate       2497056\n",
       "id         2497056\n",
       "dtype: int64"
      ]
     },
     "execution_count": 133,
     "metadata": {},
     "output_type": "execute_result"
    }
   ],
   "source": [
    "data.count()"
   ]
  },
  {
   "cell_type": "code",
   "execution_count": 134,
   "metadata": {},
   "outputs": [
    {
     "data": {
      "text/plain": [
       "index      2497056\n",
       "imdb_id      45385\n",
       "user        689984\n",
       "rate            10\n",
       "id           45388\n",
       "dtype: int64"
      ]
     },
     "execution_count": 134,
     "metadata": {},
     "output_type": "execute_result"
    }
   ],
   "source": [
    "data.nunique()"
   ]
  },
  {
   "cell_type": "code",
   "execution_count": 135,
   "metadata": {},
   "outputs": [],
   "source": [
    "data=data.dropna(subset=['imdb_id'])"
   ]
  },
  {
   "cell_type": "code",
   "execution_count": 136,
   "metadata": {},
   "outputs": [],
   "source": [
    "del data['imdb_id']"
   ]
  },
  {
   "cell_type": "code",
   "execution_count": 137,
   "metadata": {},
   "outputs": [],
   "source": [
    "data=data.dropna(subset=['user'])"
   ]
  },
  {
   "cell_type": "code",
   "execution_count": 138,
   "metadata": {},
   "outputs": [
    {
     "data": {
      "text/plain": [
       "index    2497050\n",
       "user     2497050\n",
       "rate     2497050\n",
       "id       2497050\n",
       "dtype: int64"
      ]
     },
     "execution_count": 138,
     "metadata": {},
     "output_type": "execute_result"
    }
   ],
   "source": [
    "data.count()"
   ]
  },
  {
   "cell_type": "code",
   "execution_count": 139,
   "metadata": {},
   "outputs": [
    {
     "data": {
      "text/plain": [
       "index    2497050\n",
       "user      689984\n",
       "rate          10\n",
       "id         45388\n",
       "dtype: int64"
      ]
     },
     "execution_count": 139,
     "metadata": {},
     "output_type": "execute_result"
    }
   ],
   "source": [
    "data.nunique()"
   ]
  },
  {
   "cell_type": "markdown",
   "metadata": {},
   "source": [
    "## analysing data"
   ]
  },
  {
   "cell_type": "code",
   "execution_count": 140,
   "metadata": {},
   "outputs": [
    {
     "data": {
      "text/plain": [
       "19.0"
      ]
     },
     "execution_count": 140,
     "metadata": {},
     "output_type": "execute_result"
    }
   ],
   "source": [
    "data['id'].value_counts().quantile(0.50)"
   ]
  },
  {
   "cell_type": "code",
   "execution_count": 141,
   "metadata": {},
   "outputs": [
    {
     "data": {
      "text/plain": [
       "17.0"
      ]
     },
     "execution_count": 141,
     "metadata": {},
     "output_type": "execute_result"
    }
   ],
   "source": [
    "data['user'].value_counts().quantile(0.98)"
   ]
  },
  {
   "cell_type": "markdown",
   "metadata": {},
   "source": [
    " ## Minimize number of users."
   ]
  },
  {
   "cell_type": "markdown",
   "metadata": {},
   "source": [
    "we will delete users who don't rate more than 18 movies"
   ]
  },
  {
   "cell_type": "code",
   "execution_count": 142,
   "metadata": {},
   "outputs": [],
   "source": [
    "user_n_comment=data['user'].value_counts()"
   ]
  },
  {
   "cell_type": "code",
   "execution_count": 143,
   "metadata": {},
   "outputs": [],
   "source": [
    "wanted_user=[]\n",
    "for i in a.index:\n",
    "    if(user_n_comment[i]>17):\n",
    "        wanted_user.append(i)"
   ]
  },
  {
   "cell_type": "markdown",
   "metadata": {},
   "source": [
    "Number of users who rate more than 18 movies"
   ]
  },
  {
   "cell_type": "code",
   "execution_count": 144,
   "metadata": {},
   "outputs": [
    {
     "data": {
      "text/plain": [
       "13490"
      ]
     },
     "execution_count": 144,
     "metadata": {},
     "output_type": "execute_result"
    }
   ],
   "source": [
    "pd.DataFrame(wanted_user)[0].nunique()"
   ]
  },
  {
   "cell_type": "markdown",
   "metadata": {},
   "source": [
    "Get indexes(position in data) of the wanted users."
   ]
  },
  {
   "cell_type": "code",
   "execution_count": 159,
   "metadata": {},
   "outputs": [],
   "source": [
    "index_of_wanted_user=[]\n",
    "for i in wanted_user:\n",
    "    index_of_wanted_user.append(data[data[\"user\"]==i].index.values.tolist())\n",
    "\n"
   ]
  },
  {
   "cell_type": "markdown",
   "metadata": {},
   "source": [
    "save in file "
   ]
  },
  {
   "cell_type": "code",
   "execution_count": 160,
   "metadata": {},
   "outputs": [],
   "source": [
    "import itertools\n",
    "\n",
    "tmp=index_of_wanted_user.copy()\n",
    "index_of_wanted_user = list(itertools.chain(*index_of_wanted_user))"
   ]
  },
  {
   "cell_type": "code",
   "execution_count": 167,
   "metadata": {},
   "outputs": [
    {
     "data": {
      "text/plain": [
       "1281854"
      ]
     },
     "execution_count": 167,
     "metadata": {},
     "output_type": "execute_result"
    }
   ],
   "source": [
    "len(index_of_wanted_user)"
   ]
  },
  {
   "cell_type": "code",
   "execution_count": 171,
   "metadata": {},
   "outputs": [],
   "source": [
    "new_data=data.loc[index_of_wanted_user]"
   ]
  },
  {
   "cell_type": "markdown",
   "metadata": {},
   "source": [
    "analyse new_data"
   ]
  },
  {
   "cell_type": "code",
   "execution_count": 172,
   "metadata": {},
   "outputs": [
    {
     "data": {
      "text/plain": [
       "user    13490\n",
       "rate       10\n",
       "id      42673\n",
       "dtype: int64"
      ]
     },
     "execution_count": 172,
     "metadata": {},
     "output_type": "execute_result"
    }
   ],
   "source": [
    "new_data.nunique()"
   ]
  },
  {
   "cell_type": "code",
   "execution_count": 173,
   "metadata": {},
   "outputs": [
    {
     "data": {
      "text/plain": [
       "(1281854, 3)"
      ]
     },
     "execution_count": 173,
     "metadata": {},
     "output_type": "execute_result"
    }
   ],
   "source": [
    "new_data.shape"
   ]
  },
  {
   "cell_type": "code",
   "execution_count": 174,
   "metadata": {},
   "outputs": [],
   "source": [
    "table=pd.pivot_table(new_data,index='user',columns='id',values='rate').fillna(0)"
   ]
  },
  {
   "cell_type": "code",
   "execution_count": 175,
   "metadata": {},
   "outputs": [
    {
     "data": {
      "text/html": [
       "<div>\n",
       "<style scoped>\n",
       "    .dataframe tbody tr th:only-of-type {\n",
       "        vertical-align: middle;\n",
       "    }\n",
       "\n",
       "    .dataframe tbody tr th {\n",
       "        vertical-align: top;\n",
       "    }\n",
       "\n",
       "    .dataframe thead th {\n",
       "        text-align: right;\n",
       "    }\n",
       "</style>\n",
       "<table border=\"1\" class=\"dataframe\">\n",
       "  <thead>\n",
       "    <tr style=\"text-align: right;\">\n",
       "      <th>id</th>\n",
       "      <th>100</th>\n",
       "      <th>10000</th>\n",
       "      <th>10001</th>\n",
       "      <th>100010</th>\n",
       "      <th>100017</th>\n",
       "      <th>10002</th>\n",
       "      <th>100024</th>\n",
       "      <th>10003</th>\n",
       "      <th>100032</th>\n",
       "      <th>100033</th>\n",
       "      <th>...</th>\n",
       "      <th>99920</th>\n",
       "      <th>99922</th>\n",
       "      <th>9993</th>\n",
       "      <th>99934</th>\n",
       "      <th>9994</th>\n",
       "      <th>99946</th>\n",
       "      <th>9995</th>\n",
       "      <th>9997</th>\n",
       "      <th>99977</th>\n",
       "      <th>9999</th>\n",
       "    </tr>\n",
       "    <tr>\n",
       "      <th>user</th>\n",
       "      <th></th>\n",
       "      <th></th>\n",
       "      <th></th>\n",
       "      <th></th>\n",
       "      <th></th>\n",
       "      <th></th>\n",
       "      <th></th>\n",
       "      <th></th>\n",
       "      <th></th>\n",
       "      <th></th>\n",
       "      <th></th>\n",
       "      <th></th>\n",
       "      <th></th>\n",
       "      <th></th>\n",
       "      <th></th>\n",
       "      <th></th>\n",
       "      <th></th>\n",
       "      <th></th>\n",
       "      <th></th>\n",
       "      <th></th>\n",
       "      <th></th>\n",
       "    </tr>\n",
       "  </thead>\n",
       "  <tbody>\n",
       "    <tr>\n",
       "      <th>-628</th>\n",
       "      <td>0.0</td>\n",
       "      <td>0.0</td>\n",
       "      <td>0.0</td>\n",
       "      <td>0.0</td>\n",
       "      <td>0.0</td>\n",
       "      <td>0.0</td>\n",
       "      <td>0.0</td>\n",
       "      <td>0.0</td>\n",
       "      <td>0.0</td>\n",
       "      <td>0.0</td>\n",
       "      <td>...</td>\n",
       "      <td>0.0</td>\n",
       "      <td>0.0</td>\n",
       "      <td>0.0</td>\n",
       "      <td>0.0</td>\n",
       "      <td>0.0</td>\n",
       "      <td>0.0</td>\n",
       "      <td>0.0</td>\n",
       "      <td>0.0</td>\n",
       "      <td>0.0</td>\n",
       "      <td>0.0</td>\n",
       "    </tr>\n",
       "    <tr>\n",
       "      <th>007Waffles</th>\n",
       "      <td>0.0</td>\n",
       "      <td>0.0</td>\n",
       "      <td>0.0</td>\n",
       "      <td>0.0</td>\n",
       "      <td>0.0</td>\n",
       "      <td>0.0</td>\n",
       "      <td>0.0</td>\n",
       "      <td>0.0</td>\n",
       "      <td>0.0</td>\n",
       "      <td>0.0</td>\n",
       "      <td>...</td>\n",
       "      <td>0.0</td>\n",
       "      <td>0.0</td>\n",
       "      <td>0.0</td>\n",
       "      <td>0.0</td>\n",
       "      <td>0.0</td>\n",
       "      <td>0.0</td>\n",
       "      <td>0.0</td>\n",
       "      <td>0.0</td>\n",
       "      <td>0.0</td>\n",
       "      <td>0.0</td>\n",
       "    </tr>\n",
       "    <tr>\n",
       "      <th>0maro0</th>\n",
       "      <td>0.0</td>\n",
       "      <td>0.0</td>\n",
       "      <td>0.0</td>\n",
       "      <td>0.0</td>\n",
       "      <td>0.0</td>\n",
       "      <td>0.0</td>\n",
       "      <td>0.0</td>\n",
       "      <td>0.0</td>\n",
       "      <td>0.0</td>\n",
       "      <td>0.0</td>\n",
       "      <td>...</td>\n",
       "      <td>0.0</td>\n",
       "      <td>0.0</td>\n",
       "      <td>0.0</td>\n",
       "      <td>0.0</td>\n",
       "      <td>0.0</td>\n",
       "      <td>0.0</td>\n",
       "      <td>0.0</td>\n",
       "      <td>0.0</td>\n",
       "      <td>0.0</td>\n",
       "      <td>0.0</td>\n",
       "    </tr>\n",
       "    <tr>\n",
       "      <th>0w0</th>\n",
       "      <td>0.0</td>\n",
       "      <td>0.0</td>\n",
       "      <td>0.0</td>\n",
       "      <td>0.0</td>\n",
       "      <td>0.0</td>\n",
       "      <td>0.0</td>\n",
       "      <td>0.0</td>\n",
       "      <td>0.0</td>\n",
       "      <td>0.0</td>\n",
       "      <td>0.0</td>\n",
       "      <td>...</td>\n",
       "      <td>0.0</td>\n",
       "      <td>0.0</td>\n",
       "      <td>0.0</td>\n",
       "      <td>0.0</td>\n",
       "      <td>0.0</td>\n",
       "      <td>0.0</td>\n",
       "      <td>0.0</td>\n",
       "      <td>0.0</td>\n",
       "      <td>0.0</td>\n",
       "      <td>0.0</td>\n",
       "    </tr>\n",
       "    <tr>\n",
       "      <th>108YearsOld</th>\n",
       "      <td>0.0</td>\n",
       "      <td>0.0</td>\n",
       "      <td>0.0</td>\n",
       "      <td>0.0</td>\n",
       "      <td>0.0</td>\n",
       "      <td>0.0</td>\n",
       "      <td>0.0</td>\n",
       "      <td>0.0</td>\n",
       "      <td>0.0</td>\n",
       "      <td>0.0</td>\n",
       "      <td>...</td>\n",
       "      <td>0.0</td>\n",
       "      <td>0.0</td>\n",
       "      <td>0.0</td>\n",
       "      <td>0.0</td>\n",
       "      <td>0.0</td>\n",
       "      <td>0.0</td>\n",
       "      <td>0.0</td>\n",
       "      <td>0.0</td>\n",
       "      <td>0.0</td>\n",
       "      <td>0.0</td>\n",
       "    </tr>\n",
       "    <tr>\n",
       "      <th>...</th>\n",
       "      <td>...</td>\n",
       "      <td>...</td>\n",
       "      <td>...</td>\n",
       "      <td>...</td>\n",
       "      <td>...</td>\n",
       "      <td>...</td>\n",
       "      <td>...</td>\n",
       "      <td>...</td>\n",
       "      <td>...</td>\n",
       "      <td>...</td>\n",
       "      <td>...</td>\n",
       "      <td>...</td>\n",
       "      <td>...</td>\n",
       "      <td>...</td>\n",
       "      <td>...</td>\n",
       "      <td>...</td>\n",
       "      <td>...</td>\n",
       "      <td>...</td>\n",
       "      <td>...</td>\n",
       "      <td>...</td>\n",
       "      <td>...</td>\n",
       "    </tr>\n",
       "    <tr>\n",
       "      <th>zzoaozz</th>\n",
       "      <td>0.0</td>\n",
       "      <td>0.0</td>\n",
       "      <td>0.0</td>\n",
       "      <td>0.0</td>\n",
       "      <td>0.0</td>\n",
       "      <td>0.0</td>\n",
       "      <td>0.0</td>\n",
       "      <td>0.0</td>\n",
       "      <td>0.0</td>\n",
       "      <td>0.0</td>\n",
       "      <td>...</td>\n",
       "      <td>0.0</td>\n",
       "      <td>0.0</td>\n",
       "      <td>0.0</td>\n",
       "      <td>0.0</td>\n",
       "      <td>0.0</td>\n",
       "      <td>0.0</td>\n",
       "      <td>0.0</td>\n",
       "      <td>0.0</td>\n",
       "      <td>0.0</td>\n",
       "      <td>0.0</td>\n",
       "    </tr>\n",
       "    <tr>\n",
       "      <th>zzyzx000-124-271558</th>\n",
       "      <td>0.0</td>\n",
       "      <td>0.0</td>\n",
       "      <td>0.0</td>\n",
       "      <td>0.0</td>\n",
       "      <td>0.0</td>\n",
       "      <td>0.0</td>\n",
       "      <td>0.0</td>\n",
       "      <td>0.0</td>\n",
       "      <td>0.0</td>\n",
       "      <td>0.0</td>\n",
       "      <td>...</td>\n",
       "      <td>0.0</td>\n",
       "      <td>0.0</td>\n",
       "      <td>0.0</td>\n",
       "      <td>0.0</td>\n",
       "      <td>0.0</td>\n",
       "      <td>0.0</td>\n",
       "      <td>0.0</td>\n",
       "      <td>0.0</td>\n",
       "      <td>0.0</td>\n",
       "      <td>0.0</td>\n",
       "    </tr>\n",
       "    <tr>\n",
       "      <th>zzz05</th>\n",
       "      <td>0.0</td>\n",
       "      <td>0.0</td>\n",
       "      <td>0.0</td>\n",
       "      <td>0.0</td>\n",
       "      <td>0.0</td>\n",
       "      <td>0.0</td>\n",
       "      <td>0.0</td>\n",
       "      <td>0.0</td>\n",
       "      <td>0.0</td>\n",
       "      <td>0.0</td>\n",
       "      <td>...</td>\n",
       "      <td>0.0</td>\n",
       "      <td>0.0</td>\n",
       "      <td>0.0</td>\n",
       "      <td>0.0</td>\n",
       "      <td>0.0</td>\n",
       "      <td>0.0</td>\n",
       "      <td>0.0</td>\n",
       "      <td>0.0</td>\n",
       "      <td>0.0</td>\n",
       "      <td>0.0</td>\n",
       "    </tr>\n",
       "    <tr>\n",
       "      <th>zzzorf</th>\n",
       "      <td>0.0</td>\n",
       "      <td>0.0</td>\n",
       "      <td>0.0</td>\n",
       "      <td>0.0</td>\n",
       "      <td>0.0</td>\n",
       "      <td>0.0</td>\n",
       "      <td>0.0</td>\n",
       "      <td>0.0</td>\n",
       "      <td>0.0</td>\n",
       "      <td>0.0</td>\n",
       "      <td>...</td>\n",
       "      <td>0.0</td>\n",
       "      <td>0.0</td>\n",
       "      <td>0.0</td>\n",
       "      <td>0.0</td>\n",
       "      <td>0.0</td>\n",
       "      <td>0.0</td>\n",
       "      <td>0.0</td>\n",
       "      <td>0.0</td>\n",
       "      <td>0.0</td>\n",
       "      <td>0.0</td>\n",
       "    </tr>\n",
       "    <tr>\n",
       "      <th>~AleXa~</th>\n",
       "      <td>0.0</td>\n",
       "      <td>0.0</td>\n",
       "      <td>0.0</td>\n",
       "      <td>0.0</td>\n",
       "      <td>0.0</td>\n",
       "      <td>0.0</td>\n",
       "      <td>0.0</td>\n",
       "      <td>0.0</td>\n",
       "      <td>0.0</td>\n",
       "      <td>0.0</td>\n",
       "      <td>...</td>\n",
       "      <td>0.0</td>\n",
       "      <td>0.0</td>\n",
       "      <td>0.0</td>\n",
       "      <td>0.0</td>\n",
       "      <td>0.0</td>\n",
       "      <td>0.0</td>\n",
       "      <td>0.0</td>\n",
       "      <td>0.0</td>\n",
       "      <td>0.0</td>\n",
       "      <td>0.0</td>\n",
       "    </tr>\n",
       "  </tbody>\n",
       "</table>\n",
       "<p>13490 rows × 42673 columns</p>\n",
       "</div>"
      ],
      "text/plain": [
       "id                   100  10000  10001  100010  100017  10002  100024  10003  \\\n",
       "user                                                                           \n",
       "-628                 0.0    0.0    0.0     0.0     0.0    0.0     0.0    0.0   \n",
       "007Waffles           0.0    0.0    0.0     0.0     0.0    0.0     0.0    0.0   \n",
       "0maro0               0.0    0.0    0.0     0.0     0.0    0.0     0.0    0.0   \n",
       "0w0                  0.0    0.0    0.0     0.0     0.0    0.0     0.0    0.0   \n",
       "108YearsOld          0.0    0.0    0.0     0.0     0.0    0.0     0.0    0.0   \n",
       "...                  ...    ...    ...     ...     ...    ...     ...    ...   \n",
       "zzoaozz              0.0    0.0    0.0     0.0     0.0    0.0     0.0    0.0   \n",
       "zzyzx000-124-271558  0.0    0.0    0.0     0.0     0.0    0.0     0.0    0.0   \n",
       "zzz05                0.0    0.0    0.0     0.0     0.0    0.0     0.0    0.0   \n",
       "zzzorf               0.0    0.0    0.0     0.0     0.0    0.0     0.0    0.0   \n",
       "~AleXa~              0.0    0.0    0.0     0.0     0.0    0.0     0.0    0.0   \n",
       "\n",
       "id                   100032  100033  ...  99920  99922  9993  99934  9994  \\\n",
       "user                                 ...                                    \n",
       "-628                    0.0     0.0  ...    0.0    0.0   0.0    0.0   0.0   \n",
       "007Waffles              0.0     0.0  ...    0.0    0.0   0.0    0.0   0.0   \n",
       "0maro0                  0.0     0.0  ...    0.0    0.0   0.0    0.0   0.0   \n",
       "0w0                     0.0     0.0  ...    0.0    0.0   0.0    0.0   0.0   \n",
       "108YearsOld             0.0     0.0  ...    0.0    0.0   0.0    0.0   0.0   \n",
       "...                     ...     ...  ...    ...    ...   ...    ...   ...   \n",
       "zzoaozz                 0.0     0.0  ...    0.0    0.0   0.0    0.0   0.0   \n",
       "zzyzx000-124-271558     0.0     0.0  ...    0.0    0.0   0.0    0.0   0.0   \n",
       "zzz05                   0.0     0.0  ...    0.0    0.0   0.0    0.0   0.0   \n",
       "zzzorf                  0.0     0.0  ...    0.0    0.0   0.0    0.0   0.0   \n",
       "~AleXa~                 0.0     0.0  ...    0.0    0.0   0.0    0.0   0.0   \n",
       "\n",
       "id                   99946  9995  9997  99977  9999  \n",
       "user                                                 \n",
       "-628                   0.0   0.0   0.0    0.0   0.0  \n",
       "007Waffles             0.0   0.0   0.0    0.0   0.0  \n",
       "0maro0                 0.0   0.0   0.0    0.0   0.0  \n",
       "0w0                    0.0   0.0   0.0    0.0   0.0  \n",
       "108YearsOld            0.0   0.0   0.0    0.0   0.0  \n",
       "...                    ...   ...   ...    ...   ...  \n",
       "zzoaozz                0.0   0.0   0.0    0.0   0.0  \n",
       "zzyzx000-124-271558    0.0   0.0   0.0    0.0   0.0  \n",
       "zzz05                  0.0   0.0   0.0    0.0   0.0  \n",
       "zzzorf                 0.0   0.0   0.0    0.0   0.0  \n",
       "~AleXa~                0.0   0.0   0.0    0.0   0.0  \n",
       "\n",
       "[13490 rows x 42673 columns]"
      ]
     },
     "execution_count": 175,
     "metadata": {},
     "output_type": "execute_result"
    }
   ],
   "source": [
    "table"
   ]
  },
  {
   "cell_type": "code",
   "execution_count": 176,
   "metadata": {},
   "outputs": [],
   "source": [
    "X=table.T\n",
    "from sklearn.decomposition import TruncatedSVD\n",
    "from sklearn.preprocessing import StandardScaler\n",
    "from scipy.sparse import csr_matrix"
   ]
  },
  {
   "cell_type": "code",
   "execution_count": 177,
   "metadata": {},
   "outputs": [],
   "source": [
    "X_sparse=csr_matrix(X)"
   ]
  },
  {
   "cell_type": "code",
   "execution_count": 178,
   "metadata": {},
   "outputs": [
    {
     "data": {
      "text/plain": [
       "42673"
      ]
     },
     "execution_count": 178,
     "metadata": {},
     "output_type": "execute_result"
    }
   ],
   "source": [
    "X_sparse.shape[0]"
   ]
  },
  {
   "cell_type": "code",
   "execution_count": 179,
   "metadata": {},
   "outputs": [],
   "source": [
    "tsvd = TruncatedSVD(n_components=X_sparse.shape[1]-1)\n",
    "X_tsvd = tsvd.fit(X)"
   ]
  },
  {
   "cell_type": "code",
   "execution_count": 9,
   "metadata": {},
   "outputs": [],
   "source": [
    "def select_n_components(var_ratio, goal_var: float) -> int:\n",
    "    \n",
    "    total_variance = 0.0\n",
    "    \n",
    "    n_components = 0\n",
    "    \n",
    "    for explained_variance in var_ratio:\n",
    "\n",
    "        total_variance += explained_variance\n",
    "        \n",
    "        n_components += 1\n",
    "        \n",
    "        if total_variance >= goal_var:\n",
    "            break\n",
    "\n",
    "    return n_components"
   ]
  },
  {
   "cell_type": "code",
   "execution_count": 181,
   "metadata": {},
   "outputs": [
    {
     "data": {
      "text/plain": [
       "5920"
      ]
     },
     "execution_count": 181,
     "metadata": {},
     "output_type": "execute_result"
    }
   ],
   "source": [
    "k=select_n_components(tsvd.explained_variance_ratio_, 0.95)\n",
    "k"
   ]
  },
  {
   "cell_type": "code",
   "execution_count": 182,
   "metadata": {},
   "outputs": [
    {
     "data": {
      "text/plain": [
       "(42673, 5920)"
      ]
     },
     "execution_count": 182,
     "metadata": {},
     "output_type": "execute_result"
    }
   ],
   "source": [
    "SVD = TruncatedSVD(n_components=k)\n",
    "decomposed_matrix = SVD.fit_transform(X)\n",
    "decomposed_matrix.shape"
   ]
  },
  {
   "cell_type": "code",
   "execution_count": 183,
   "metadata": {},
   "outputs": [
    {
     "data": {
      "text/plain": [
       "array([[ 4.01319277e+01,  3.07836908e+00,  9.89191564e+00, ...,\n",
       "         2.51067438e-01,  1.44686605e-01,  1.54759104e-01],\n",
       "       [ 6.36981718e-02,  2.78285118e-02, -3.54297386e-02, ...,\n",
       "        -9.51047892e-02,  1.56951393e-01,  1.99331582e-01],\n",
       "       [ 2.19129389e+00,  2.85234454e-01,  1.18099609e+00, ...,\n",
       "         1.67967144e-01, -1.67287976e-02,  5.84269941e-02],\n",
       "       ...,\n",
       "       [ 8.19010873e-01,  6.88501263e-02,  6.64506653e-01, ...,\n",
       "         4.34765066e-01,  3.55833116e-01,  4.15660771e-01],\n",
       "       [ 1.15170093e+00, -1.40222842e+00,  2.23863638e-01, ...,\n",
       "        -1.86570755e-01, -1.16580257e-01, -8.97357697e-02],\n",
       "       [ 2.59145492e-01,  1.61327059e-01, -2.93729583e-01, ...,\n",
       "        -1.67886656e-01, -5.29357001e-02, -1.35674460e-01]])"
      ]
     },
     "execution_count": 183,
     "metadata": {},
     "output_type": "execute_result"
    }
   ],
   "source": [
    "decomposed_matrix"
   ]
  },
  {
   "cell_type": "markdown",
   "metadata": {},
   "source": [
    "save decomposed matrix"
   ]
  },
  {
   "cell_type": "code",
   "execution_count": 184,
   "metadata": {},
   "outputs": [],
   "source": [
    "with open('decomposed_matrix.npy', 'wb') as f:\n",
    "    np.save(f, decomposed_matrix)"
   ]
  },
  {
   "cell_type": "markdown",
   "metadata": {},
   "source": [
    "memory size of decomposed matrix in GB"
   ]
  },
  {
   "cell_type": "code",
   "execution_count": 185,
   "metadata": {},
   "outputs": [
    {
     "data": {
      "text/plain": [
       "1.8821966648101807"
      ]
     },
     "execution_count": 185,
     "metadata": {},
     "output_type": "execute_result"
    }
   ],
   "source": [
    "decomposed_matrix.size*decomposed_matrix.itemsize/(1024*1024*1024)"
   ]
  },
  {
   "cell_type": "code",
   "execution_count": 2,
   "metadata": {},
   "outputs": [],
   "source": [
    "with open('decomposed_matrix.npy', 'rb') as f:\n",
    "    decomposed_matrix = np.load(f)"
   ]
  },
  {
   "cell_type": "code",
   "execution_count": 3,
   "metadata": {},
   "outputs": [
    {
     "data": {
      "text/plain": [
       "(42673, 42673)"
      ]
     },
     "execution_count": 3,
     "metadata": {},
     "output_type": "execute_result"
    }
   ],
   "source": [
    "correlation_matrix = np.corrcoef(decomposed_matrix)\n",
    "correlation_matrix.shape"
   ]
  },
  {
   "cell_type": "markdown",
   "metadata": {},
   "source": [
    "memory size of correlation matrix in GB"
   ]
  },
  {
   "cell_type": "code",
   "execution_count": 188,
   "metadata": {},
   "outputs": [
    {
     "data": {
      "text/plain": [
       "13.567394979298115"
      ]
     },
     "execution_count": 188,
     "metadata": {},
     "output_type": "execute_result"
    }
   ],
   "source": [
    "correlation_matrix.size*correlation_matrix.itemsize/(1024*1024*1024)"
   ]
  },
  {
   "cell_type": "code",
   "execution_count": 211,
   "metadata": {},
   "outputs": [
    {
     "data": {
      "text/plain": [
       "7368"
      ]
     },
     "execution_count": 211,
     "metadata": {},
     "output_type": "execute_result"
    }
   ],
   "source": [
    "movie_id = list(X.index)\n",
    "\n",
    "f = open('list_movie_id_collaborative.pkl', 'wb')\n",
    "pickle.dump(movie_id , f)\n",
    "f.close()\n",
    "\n",
    "\n"
   ]
  },
  {
   "cell_type": "code",
   "execution_count": 4,
   "metadata": {},
   "outputs": [],
   "source": [
    "f = open('list_movie_id_collaborative.pkl', 'rb')\n",
    "movie_id = pickle.load(f)\n",
    "f.close()"
   ]
  },
  {
   "cell_type": "code",
   "execution_count": 216,
   "metadata": {},
   "outputs": [
    {
     "data": {
      "text/plain": [
       "7368"
      ]
     },
     "execution_count": 216,
     "metadata": {},
     "output_type": "execute_result"
    }
   ],
   "source": [
    "movie_index = movie_id.index('155')\n",
    "movie_index\n"
   ]
  },
  {
   "cell_type": "code",
   "execution_count": 207,
   "metadata": {},
   "outputs": [
    {
     "data": {
      "text/plain": [
       "array([ 0.07479055, -0.00120604,  0.011251  , ...,  0.00041895,\n",
       "        0.06469775, -0.00047995])"
      ]
     },
     "execution_count": 207,
     "metadata": {},
     "output_type": "execute_result"
    }
   ],
   "source": [
    "correlation_movie = correlation_matrix[movie_index]\n",
    "correlation_movie"
   ]
  },
  {
   "cell_type": "code",
   "execution_count": 247,
   "metadata": {},
   "outputs": [
    {
     "data": {
      "text/plain": [
       "'155'"
      ]
     },
     "execution_count": 247,
     "metadata": {},
     "output_type": "execute_result"
    }
   ],
   "source": [
    "movie_id[7368]"
   ]
  },
  {
   "cell_type": "code",
   "execution_count": 16,
   "metadata": {},
   "outputs": [],
   "source": [
    "def get_recommend(id):\n",
    "    movie_index = movie_id.index(id)\n",
    "    correlation_movie = correlation_matrix[movie_index]\n",
    "    list_movies=pd.DataFrame(correlation_movie)\n",
    "    temp=list_movies.sort_values(by=[0],ascending=False).index[0:20]\n",
    "    buts=[]\n",
    "    for i in temp:\n",
    "        movie= movie_id[i]\n",
    "        but=data_movie[data_movie[\"id\"]==movie]\n",
    "        buts.append([movie,but[\"title\"].values[0],but[\"score\"].values[0]])\n",
    "    temp=pd.DataFrame(buts).sort_values(by=[2],ascending=False)\n",
    "    print(temp)\n"
   ]
  },
  {
   "cell_type": "code",
   "execution_count": 17,
   "metadata": {},
   "outputs": [
    {
     "name": "stdout",
     "output_type": "stream",
     "text": [
      "        0                                        1         2\n",
      "15   5176                               3:10toyuma  6.976153\n",
      "16  11253                  hellboyii:thegoldenarmy  6.600715\n",
      "12   2454      thechroniclesofnarnia:princecaspian  6.526952\n",
      "19   7446                            tropicthunder  6.521842\n",
      "8    8204                  thespiderwickchronicles  6.442279\n",
      "5   10527                 madagascar:escape2africa  6.440708\n",
      "9    6972                                australia  6.427682\n",
      "18  12222                         hortonhearsawho!  6.385978\n",
      "6    8960                                  hancock  6.269604\n",
      "3    6637           nationaltreasure:bookofsecrets  6.245642\n",
      "11   1724                        theincrediblehulk  6.179865\n",
      "2   54318                            thewaterhorse  6.172775\n",
      "14  18360  nightatthemuseum:battleofthesmithsonian  6.076052\n",
      "0   88751             journeytothecenteroftheearth  5.978606\n",
      "7   10488                              nim'sisland  5.871565\n",
      "13  13836                      racetowitchmountain  5.805800\n",
      "4   10200                 thedaytheearthstoodstill  5.636693\n",
      "17   9750                              ballsoffury  5.554024\n",
      "10   7840                                 10,000bc  5.476893\n",
      "1    1735          themummy:tombofthedragonemperor  5.454414\n"
     ]
    }
   ],
   "source": [
    "get_recommend('88751')"
   ]
  },
  {
   "cell_type": "code",
   "execution_count": null,
   "metadata": {},
   "outputs": [],
   "source": []
  }
 ],
 "metadata": {
  "kernelspec": {
   "display_name": "Python 3",
   "language": "python",
   "name": "python3"
  },
  "language_info": {
   "codemirror_mode": {
    "name": "ipython",
    "version": 3
   },
   "file_extension": ".py",
   "mimetype": "text/x-python",
   "name": "python",
   "nbconvert_exporter": "python",
   "pygments_lexer": "ipython3",
   "version": "3.9.13"
  },
  "vscode": {
   "interpreter": {
    "hash": "e4ec2cb6c0c4917e93c63c232a48c62049165809d72f1d83c3d9b4c0318b626a"
   }
  }
 },
 "nbformat": 4,
 "nbformat_minor": 2
}
