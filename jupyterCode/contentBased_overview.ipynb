{
 "cells": [
  {
   "cell_type": "markdown",
   "id": "a573d6b7",
   "metadata": {},
   "source": [
    "# Compute the similarity between movies based on their overview"
   ]
  },
  {
   "cell_type": "markdown",
   "id": "5ea9c3f7",
   "metadata": {},
   "source": [
    "## read datasets"
   ]
  },
  {
   "cell_type": "code",
   "execution_count": 1,
   "id": "9b00a894",
   "metadata": {},
   "outputs": [],
   "source": [
    "import pandas as pd\n",
    "import numpy as np\n",
    "from sklearn.feature_extraction.text import TfidfVectorizer\n",
    "from sklearn.metrics.pairwise import cosine_similarity\n",
    "import pickle\n"
   ]
  },
  {
   "cell_type": "code",
   "execution_count": 2,
   "id": "4980c637",
   "metadata": {},
   "outputs": [
    {
     "data": {
      "text/plain": [
       "(49716, 16)"
      ]
     },
     "execution_count": 2,
     "metadata": {},
     "output_type": "execute_result"
    }
   ],
   "source": [
    "data = pd.read_csv('data_movies_final.csv', low_memory=False)\n",
    "data.shape"
   ]
  },
  {
   "cell_type": "code",
   "execution_count": 3,
   "id": "a51cb500",
   "metadata": {},
   "outputs": [
    {
     "data": {
      "text/plain": [
       "(4977, 17)"
      ]
     },
     "execution_count": 3,
     "metadata": {},
     "output_type": "execute_result"
    }
   ],
   "source": [
    "q_movies = pd.read_csv('topMovies.csv', low_memory=False)\n",
    "q_movies.shape"
   ]
  },
  {
   "cell_type": "code",
   "execution_count": 4,
   "id": "9c13e8d8",
   "metadata": {},
   "outputs": [
    {
     "data": {
      "text/plain": [
       "0    Led by Woody, Andy's toys live happily in his ...\n",
       "1    When siblings Judy and Peter discover an encha...\n",
       "2    A family wedding reignites the ancient feud be...\n",
       "3    Cheated on, mistreated and stepped on, the wom...\n",
       "4    Just when George Banks has recovered from his ...\n",
       "Name: overview, dtype: object"
      ]
     },
     "execution_count": 4,
     "metadata": {},
     "output_type": "execute_result"
    }
   ],
   "source": [
    "#Print plot overviews of the first 5 movies.\n",
    "data['overview'].head()"
   ]
  },
  {
   "cell_type": "code",
   "execution_count": 5,
   "id": "3b9b48c1",
   "metadata": {},
   "outputs": [],
   "source": [
    "#Define a TF-IDF Vectorizer Object. Remove all english stop words such as 'the', 'a'\n",
    "tfidf = TfidfVectorizer(stop_words='english')\n",
    "data['overview'] = data['overview'].fillna('')"
   ]
  },
  {
   "cell_type": "code",
   "execution_count": 6,
   "id": "6b6a98da",
   "metadata": {},
   "outputs": [
    {
     "data": {
      "text/plain": [
       "(49716, 72064)"
      ]
     },
     "execution_count": 6,
     "metadata": {},
     "output_type": "execute_result"
    }
   ],
   "source": [
    "#Construct the required TF-IDF matrix by fitting and transforming the data\n",
    "tfidf_matrix = tfidf.fit_transform(data['overview'])\n",
    "#Output the shape of tfidf_matrix\n",
    "tfidf_matrix.shape"
   ]
  },
  {
   "cell_type": "code",
   "execution_count": 7,
   "id": "dc7804c2",
   "metadata": {},
   "outputs": [
    {
     "name": "stderr",
     "output_type": "stream",
     "text": [
      "C:\\ProgramData\\Anaconda3\\lib\\site-packages\\sklearn\\utils\\deprecation.py:87: FutureWarning: Function get_feature_names is deprecated; get_feature_names is deprecated in 1.0 and will be removed in 1.2. Please use get_feature_names_out instead.\n",
      "  warnings.warn(msg, category=FutureWarning)\n"
     ]
    },
    {
     "data": {
      "text/plain": [
       "['ayres',\n",
       " 'ayreses',\n",
       " 'ayrshire',\n",
       " 'ayrton',\n",
       " 'aysgarth',\n",
       " 'ayu',\n",
       " 'ayudante',\n",
       " 'ayurveda',\n",
       " 'ayuttaya',\n",
       " 'ayça']"
      ]
     },
     "execution_count": 7,
     "metadata": {},
     "output_type": "execute_result"
    }
   ],
   "source": [
    "#Array mapping from feature integer indices to feature name.\n",
    "tfidf.get_feature_names()[5000:5010]"
   ]
  },
  {
   "cell_type": "code",
   "execution_count": 8,
   "id": "68f380f3",
   "metadata": {},
   "outputs": [],
   "source": [
    "cosine_sim_overview = cosine_similarity(tfidf_matrix, tfidf_matrix)"
   ]
  },
  {
   "cell_type": "code",
   "execution_count": 9,
   "id": "5e57c639",
   "metadata": {},
   "outputs": [
    {
     "data": {
      "text/plain": [
       "(49716, 49716)"
      ]
     },
     "execution_count": 9,
     "metadata": {},
     "output_type": "execute_result"
    }
   ],
   "source": [
    "cosine_sim_overview.shape"
   ]
  },
  {
   "cell_type": "markdown",
   "id": "7ddfd49c",
   "metadata": {},
   "source": [
    "###  Similarity between top rated movies and all other movies based on overview"
   ]
  },
  {
   "cell_type": "code",
   "execution_count": 10,
   "id": "b2cf56ce",
   "metadata": {},
   "outputs": [],
   "source": [
    "topMovID = q_movies['id'].tolist()\n",
    "indx = []\n",
    "for i in topMovID:\n",
    "    indx.append(np.where(data['id']==i)[0][0])"
   ]
  },
  {
   "cell_type": "code",
   "execution_count": 11,
   "id": "99ffcf3a",
   "metadata": {},
   "outputs": [
    {
     "data": {
      "text/plain": [
       "(49716, 4977)"
      ]
     },
     "execution_count": 11,
     "metadata": {},
     "output_type": "execute_result"
    }
   ],
   "source": [
    "cosin_sim_overview_topMov = cosine_sim_overview[:, indx]\n",
    "cosin_sim_overview_topMov.shape"
   ]
  },
  {
   "cell_type": "code",
   "execution_count": 12,
   "id": "717e52bb",
   "metadata": {},
   "outputs": [],
   "source": [
    "f = open('cosin_sim_overview_topMov.pckl', 'wb')\n",
    "pickle.dump(cosin_sim_overview_topMov, f)\n",
    "f.close()"
   ]
  },
  {
   "cell_type": "code",
   "execution_count": null,
   "id": "b2ef60ca",
   "metadata": {},
   "outputs": [],
   "source": [
    "\"\"\"f = open('cosin_sim_overview_topMov.pckl', 'rb')\n",
    "cosin_sim_overview_topMov = pickle.load(f)\n",
    "f.close()\"\"\""
   ]
  },
  {
   "cell_type": "code",
   "execution_count": 13,
   "id": "8f3d1e5b",
   "metadata": {},
   "outputs": [],
   "source": [
    "#Construct a reverse map of indices and movie titles\n",
    "indices = pd.Series(data.index, index=data['title'])"
   ]
  },
  {
   "cell_type": "code",
   "execution_count": 16,
   "id": "0c1ccea3",
   "metadata": {},
   "outputs": [],
   "source": [
    "# Function to convert all strings to lower case and strip names of spaces\n",
    "def lower_noSpace(x):\n",
    "    if isinstance(x, list):\n",
    "        return [str.lower(i.replace(\" \", \"\")) for i in x]\n",
    "    else:\n",
    "        #Check if director exists. If not, return empty string\n",
    "        if isinstance(x, str):\n",
    "            return str.lower(x.replace(\" \", \"\"))\n",
    "        else:\n",
    "            return ''"
   ]
  },
  {
   "cell_type": "code",
   "execution_count": 17,
   "id": "06b20700",
   "metadata": {},
   "outputs": [],
   "source": [
    "# Function that takes in movie title as input and outputs most similar movies\n",
    "def get_recommendations(title, cosine_sim):\n",
    "    title = lower_noSpace(title)\n",
    "    \n",
    "    # Get the index of the movie that matches the title\n",
    "    idx = indices[title]\n",
    "\n",
    "    # Get the pairwsie similarity scores of all movies with that movie\n",
    "    sim_scores = []\n",
    "    for i,sim in enumerate(cosine_sim[idx]):\n",
    "        sim_scores.append([indx[i],sim])\n",
    "\n",
    "    # Sort the movies based on the similarity scores\n",
    "    sim_scores = sorted(sim_scores, key=lambda x: x[1], reverse=True)\n",
    "\n",
    "    # Get the scores of the 10 most similar movies\n",
    "    sim_scores = sim_scores[0:11]\n",
    "\n",
    "    # Get the movie indices\n",
    "    movie_indices = [i[0] for i in sim_scores]\n",
    "\n",
    "    # Return the top 10 most similar movies\n",
    "    return data['title'].iloc[movie_indices]"
   ]
  },
  {
   "cell_type": "code",
   "execution_count": 18,
   "id": "5e88003f",
   "metadata": {},
   "outputs": [
    {
     "data": {
      "text/plain": [
       "22742                 interstellar\n",
       "22897    spacepiratecaptainharlock\n",
       "29720              thegreeninferno\n",
       "18905                   prometheus\n",
       "24777              dumbanddumberto\n",
       "312                       stargate\n",
       "9930                atriptothemoon\n",
       "1142             theenglishpatient\n",
       "45844         starwars:thelastjedi\n",
       "16193                allgoodthings\n",
       "23865              asabove,sobelow\n",
       "Name: title, dtype: object"
      ]
     },
     "execution_count": 18,
     "metadata": {},
     "output_type": "execute_result"
    }
   ],
   "source": [
    "get_recommendations('Interstellar', cosin_sim_overview_topMov)"
   ]
  },
  {
   "cell_type": "code",
   "execution_count": null,
   "id": "2952bfbb",
   "metadata": {},
   "outputs": [],
   "source": []
  }
 ],
 "metadata": {
  "kernelspec": {
   "display_name": "Python 3",
   "language": "python",
   "name": "python3"
  },
  "language_info": {
   "codemirror_mode": {
    "name": "ipython",
    "version": 3
   },
   "file_extension": ".py",
   "mimetype": "text/x-python",
   "name": "python",
   "nbconvert_exporter": "python",
   "pygments_lexer": "ipython3",
   "version": "3.7.4"
  }
 },
 "nbformat": 4,
 "nbformat_minor": 5
}
