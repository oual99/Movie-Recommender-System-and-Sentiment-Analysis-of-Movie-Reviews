{
 "cells": [
  {
   "cell_type": "code",
   "execution_count": 18,
   "metadata": {},
   "outputs": [],
   "source": [
    "from bs4 import BeautifulSoup\n",
    "import requests\n",
    "from lxml import etree\n",
    "import pandas as pd\n"
   ]
  },
  {
   "cell_type": "markdown",
   "metadata": {},
   "source": [
    "## scraping movies titles from wikipedia"
   ]
  },
  {
   "cell_type": "code",
   "execution_count": 204,
   "metadata": {},
   "outputs": [],
   "source": [
    "domain=\"https://en.wikipedia.org/\"\n",
    "page = requests.get(\"https://en.wikipedia.org/wiki/Lists_of_American_films\")\n",
    "soup = BeautifulSoup(page.content, 'html.parser')"
   ]
  },
  {
   "cell_type": "code",
   "execution_count": 205,
   "metadata": {},
   "outputs": [],
   "source": [
    "list_by_years=[]\n",
    "for part in soup.select('li'):\n",
    "    for link in part.select('a'):\n",
    "        strlink=str(link.get('title'))\n",
    "        try:\n",
    "            if(strlink.startswith('List of American')and int(strlink.split()[-1])>=2016 ):\n",
    "                list_by_years.append(link.get('href'))\n",
    "        except:\n",
    "            pass     "
   ]
  },
  {
   "cell_type": "code",
   "execution_count": 207,
   "metadata": {},
   "outputs": [
    {
     "name": "stdout",
     "output_type": "stream",
     "text": [
      "pass 0\n",
      "pass 1\n",
      "pass 2\n",
      "pass 3\n",
      "pass 4\n",
      "pass 5\n",
      "pass 6\n",
      "pass 7\n"
     ]
    }
   ],
   "source": [
    "\n",
    "title=[]\n",
    "for m,link in enumerate(list_by_years):\n",
    "    page=requests.get(domain+link)\n",
    "    \n",
    "    soup=BeautifulSoup(page.content, 'html.parser')\n",
    "    tables=soup.select('table')\n",
    " \n",
    "    print('pass',m)\n",
    "    for table in tables:\n",
    "        if('wikitable' in str(table.get('class'))):\n",
    "            if('Cast' in str(table.find('tr'))):\n",
    "            \n",
    "                temp=table.select('tr')\n",
    "                for i in temp[1:]:\n",
    "                    aim=[]\n",
    "                    for j in i.select('td'):\n",
    "                        if(len(j.select('a'))!=0):\n",
    "                            a=''\n",
    "                            for k in j.select('a'):\n",
    "                                a+=k.getText()+','\n",
    "                            aim.append(a[:-1])\n",
    "                        else:\n",
    "                            aim.append(j.getText())\n",
    "                    e=0\n",
    "                    if(aim[0][:-1].isdigit()):\n",
    "                        e=1\n",
    "                    title.append(aim[e])"
   ]
  },
  {
   "cell_type": "markdown",
   "metadata": {},
   "source": [
    "get ids tmdb of these movies"
   ]
  },
  {
   "cell_type": "code",
   "execution_count": 22,
   "metadata": {},
   "outputs": [],
   "source": [
    "from urllib.request import urlopen\n",
    "import json"
   ]
  },
  {
   "cell_type": "code",
   "execution_count": null,
   "metadata": {},
   "outputs": [],
   "source": [
    "api_key=\"your api key ,you can get it from tmdb\"\n",
    "\n",
    "info_films=[]\n",
    "for l,k in enumerate(title):\n",
    "    print(l)\n",
    "    url =\"https://api.themoviedb.org/3/search/movie?api_key=\"+api_key+\"&query='\"+str(k)+\"'\"\n",
    "    url=url.replace(\"\\n\", \" \").encode('ascii', 'ignore').decode('ascii')\n",
    "    a=url.replace(\" \", \"%20\").encode('ascii', 'ignore').decode('ascii')\n",
    "    response = urlopen(a)\n",
    "    data_json = json.loads(response.read())\n",
    "    for i in data_json['results']:\n",
    "        info_films.append(i)\n",
    "\n",
    "\n"
   ]
  },
  {
   "cell_type": "code",
   "execution_count": 217,
   "metadata": {},
   "outputs": [],
   "source": [
    "\n",
    "data=pd.DataFrame(info_films)"
   ]
  },
  {
   "cell_type": "code",
   "execution_count": 223,
   "metadata": {},
   "outputs": [],
   "source": [
    "data['release_date']=pd.to_datetime(data['release_date'])\n",
    "data=data[~(data.release_date<'2016-01-01')]\n"
   ]
  },
  {
   "cell_type": "code",
   "execution_count": null,
   "metadata": {},
   "outputs": [],
   "source": [
    "data=data.drop_duplicates(subset =\"id\")"
   ]
  },
  {
   "cell_type": "code",
   "execution_count": 258,
   "metadata": {},
   "outputs": [],
   "source": [
    "id=pd.DataFrame(id)\n",
    "id.rename(columns = {'tmdb_id':'id'}, inplace = True)"
   ]
  },
  {
   "cell_type": "code",
   "execution_count": 259,
   "metadata": {},
   "outputs": [
    {
     "data": {
      "text/html": [
       "<div>\n",
       "<style scoped>\n",
       "    .dataframe tbody tr th:only-of-type {\n",
       "        vertical-align: middle;\n",
       "    }\n",
       "\n",
       "    .dataframe tbody tr th {\n",
       "        vertical-align: top;\n",
       "    }\n",
       "\n",
       "    .dataframe thead th {\n",
       "        text-align: right;\n",
       "    }\n",
       "</style>\n",
       "<table border=\"1\" class=\"dataframe\">\n",
       "  <thead>\n",
       "    <tr style=\"text-align: right;\">\n",
       "      <th></th>\n",
       "      <th>id</th>\n",
       "      <th>imdb_id</th>\n",
       "    </tr>\n",
       "  </thead>\n",
       "  <tbody>\n",
       "    <tr>\n",
       "      <th>0</th>\n",
       "      <td>329440</td>\n",
       "      <td>tt3387542</td>\n",
       "    </tr>\n",
       "    <tr>\n",
       "      <th>1</th>\n",
       "      <td>334538</td>\n",
       "      <td>tt2625810</td>\n",
       "    </tr>\n",
       "    <tr>\n",
       "      <th>2</th>\n",
       "      <td>929562</td>\n",
       "      <td>tt13924926</td>\n",
       "    </tr>\n",
       "    <tr>\n",
       "      <th>3</th>\n",
       "      <td>857837</td>\n",
       "      <td>tt11718696</td>\n",
       "    </tr>\n",
       "    <tr>\n",
       "      <th>4</th>\n",
       "      <td>634571</td>\n",
       "      <td>tt11023922</td>\n",
       "    </tr>\n",
       "    <tr>\n",
       "      <th>...</th>\n",
       "      <td>...</td>\n",
       "      <td>...</td>\n",
       "    </tr>\n",
       "    <tr>\n",
       "      <th>5113</th>\n",
       "      <td>474876</td>\n",
       "      <td>tt0887908</td>\n",
       "    </tr>\n",
       "    <tr>\n",
       "      <th>5114</th>\n",
       "      <td>787699</td>\n",
       "      <td>tt6166392</td>\n",
       "    </tr>\n",
       "    <tr>\n",
       "      <th>5115</th>\n",
       "      <td>558915</td>\n",
       "      <td>tt1200263</td>\n",
       "    </tr>\n",
       "    <tr>\n",
       "      <th>5116</th>\n",
       "      <td>797898</td>\n",
       "      <td>None</td>\n",
       "    </tr>\n",
       "    <tr>\n",
       "      <th>5117</th>\n",
       "      <td>598387</td>\n",
       "      <td>tt5834410</td>\n",
       "    </tr>\n",
       "  </tbody>\n",
       "</table>\n",
       "<p>5118 rows × 2 columns</p>\n",
       "</div>"
      ],
      "text/plain": [
       "          id     imdb_id\n",
       "0     329440   tt3387542\n",
       "1     334538   tt2625810\n",
       "2     929562  tt13924926\n",
       "3     857837  tt11718696\n",
       "4     634571  tt11023922\n",
       "...      ...         ...\n",
       "5113  474876   tt0887908\n",
       "5114  787699   tt6166392\n",
       "5115  558915   tt1200263\n",
       "5116  797898        None\n",
       "5117  598387   tt5834410\n",
       "\n",
       "[5118 rows x 2 columns]"
      ]
     },
     "execution_count": 259,
     "metadata": {},
     "output_type": "execute_result"
    }
   ],
   "source": [
    "id"
   ]
  },
  {
   "cell_type": "code",
   "execution_count": null,
   "metadata": {},
   "outputs": [],
   "source": [
    "data_kaggle=pd.read_csv('movies_metadata.csv')"
   ]
  },
  {
   "cell_type": "markdown",
   "metadata": {},
   "source": [
    "Now, we will get ids of  45.000 movies from Kaggle data, and concatenate those ids with others"
   ]
  },
  {
   "cell_type": "code",
   "execution_count": null,
   "metadata": {},
   "outputs": [],
   "source": [
    "ids=pd.concat([data_kaggle['id'],data['id']])\n",
    "ln=len(ids)"
   ]
  },
  {
   "cell_type": "markdown",
   "metadata": {},
   "source": [
    "So, we have  more than 50.000 movies in our dataset."
   ]
  },
  {
   "cell_type": "code",
   "execution_count": 19,
   "metadata": {},
   "outputs": [
    {
     "data": {
      "text/plain": [
       "50145"
      ]
     },
     "execution_count": 19,
     "metadata": {},
     "output_type": "execute_result"
    }
   ],
   "source": [
    "len(ids)"
   ]
  },
  {
   "cell_type": "markdown",
   "metadata": {},
   "source": [
    "## load movies details from tmdb"
   ]
  },
  {
   "cell_type": "markdown",
   "metadata": {},
   "source": [
    "collect detail for each movie"
   ]
  },
  {
   "cell_type": "code",
   "execution_count": 23,
   "metadata": {},
   "outputs": [],
   "source": [
    "\n",
    "info=[]\n",
    "errors=[]\n",
    "for i in ids:\n",
    "    try:    \n",
    "        url =\"https://api.themoviedb.org/3/movie/\"+str(i)+\"?api_key=\"+api_key\n",
    "        response = urlopen(url)\n",
    "        data_json = json.loads(response.read())\n",
    "        a={\"id\":i,\n",
    "        \"imdb_id\":data_json[\"imdb_id\"],\n",
    "        \"release_date\":data_json[\"release_date\"],\n",
    "        \"title\":data_json[\"title\"],\n",
    "        \"original_language\":data_json[\"original_language\"],\n",
    "        \"genres\":data_json[\"genres\"],\n",
    "        \"popularity\":data_json[\"popularity\"],\n",
    "        \"production_companies\":data_json[\"production_companies\"],\n",
    "        \"production_countries\":data_json[\"production_countries\"],\n",
    "        \"vote_average\":data_json[\"vote_average\"],\n",
    "        \"vote_count\":data_json[\"vote_count\"],\n",
    "        \"overview\":data_json[\"overview\"],\n",
    "        \"runtime\":data_json[\"runtime\"]\n",
    "        }\n",
    "        info.append(a)\n",
    "    except:\n",
    "        errors.append(i)\n",
    "        \n",
    "        "
   ]
  },
  {
   "cell_type": "code",
   "execution_count": 25,
   "metadata": {},
   "outputs": [],
   "source": [
    "info=pd.DataFrame(info)"
   ]
  },
  {
   "cell_type": "code",
   "execution_count": 24,
   "metadata": {},
   "outputs": [
    {
     "name": "stdout",
     "output_type": "stream",
     "text": [
      "252983\n",
      "570679\n",
      "958475\n"
     ]
    }
   ],
   "source": [
    "er=[]\n",
    "movie_casts=[]\n",
    "for i in info['id']:\n",
    "    try:\n",
    "        url=\"https://api.themoviedb.org/3/movie/\"+str(i)+\"/credits?api_key=\"+api_key+\"&language=en-US\"\n",
    "        response = urlopen(url)\n",
    "        data_json = json.loads(response.read())\n",
    "        casts=[]\n",
    "        for j in data_json['cast']:\n",
    "            casts.append({\n",
    "                'cast_id':j['id'],\n",
    "                'name':j['name']\n",
    "            })\n",
    "        directors = [] \n",
    "        for j in data_json['crew']:\n",
    "            if j[\"job\"]==\"Director\":\n",
    "                directors.append({\n",
    "                    'cast_id':j['id'],\n",
    "                    'name':j['name']\n",
    "                })\n",
    "\n",
    "        movie_casts.append({\n",
    "            'id':i,\n",
    "            'casts':casts,\n",
    "            'directors':directors\n",
    "        })\n",
    "    except:\n",
    "        print(i)\n",
    "        er.append(i)\n",
    "        "
   ]
  },
  {
   "cell_type": "code",
   "execution_count": 28,
   "metadata": {},
   "outputs": [
    {
     "data": {
      "text/html": [
       "<div>\n",
       "<style scoped>\n",
       "    .dataframe tbody tr th:only-of-type {\n",
       "        vertical-align: middle;\n",
       "    }\n",
       "\n",
       "    .dataframe tbody tr th {\n",
       "        vertical-align: top;\n",
       "    }\n",
       "\n",
       "    .dataframe thead th {\n",
       "        text-align: right;\n",
       "    }\n",
       "</style>\n",
       "<table border=\"1\" class=\"dataframe\">\n",
       "  <thead>\n",
       "    <tr style=\"text-align: right;\">\n",
       "      <th></th>\n",
       "      <th>id</th>\n",
       "      <th>casts</th>\n",
       "      <th>directors</th>\n",
       "    </tr>\n",
       "  </thead>\n",
       "  <tbody>\n",
       "    <tr>\n",
       "      <th>0</th>\n",
       "      <td>862</td>\n",
       "      <td>[{'cast_id': 31, 'name': 'Tom Hanks'}, {'cast_...</td>\n",
       "      <td>[{'cast_id': 7879, 'name': 'John Lasseter'}]</td>\n",
       "    </tr>\n",
       "    <tr>\n",
       "      <th>1</th>\n",
       "      <td>8844</td>\n",
       "      <td>[{'cast_id': 2157, 'name': 'Robin Williams'}, ...</td>\n",
       "      <td>[{'cast_id': 4945, 'name': 'Joe Johnston'}]</td>\n",
       "    </tr>\n",
       "    <tr>\n",
       "      <th>2</th>\n",
       "      <td>15602</td>\n",
       "      <td>[{'cast_id': 6837, 'name': 'Walter Matthau'}, ...</td>\n",
       "      <td>[{'cast_id': 26502, 'name': 'Howard Deutch'}]</td>\n",
       "    </tr>\n",
       "    <tr>\n",
       "      <th>3</th>\n",
       "      <td>31357</td>\n",
       "      <td>[{'cast_id': 8851, 'name': 'Whitney Houston'},...</td>\n",
       "      <td>[{'cast_id': 2178, 'name': 'Forest Whitaker'}]</td>\n",
       "    </tr>\n",
       "    <tr>\n",
       "      <th>4</th>\n",
       "      <td>11862</td>\n",
       "      <td>[{'cast_id': 67773, 'name': 'Steve Martin'}, {...</td>\n",
       "      <td>[{'cast_id': 56106, 'name': 'Charles Shyer'}]</td>\n",
       "    </tr>\n",
       "  </tbody>\n",
       "</table>\n",
       "</div>"
      ],
      "text/plain": [
       "      id                                              casts  \\\n",
       "0    862  [{'cast_id': 31, 'name': 'Tom Hanks'}, {'cast_...   \n",
       "1   8844  [{'cast_id': 2157, 'name': 'Robin Williams'}, ...   \n",
       "2  15602  [{'cast_id': 6837, 'name': 'Walter Matthau'}, ...   \n",
       "3  31357  [{'cast_id': 8851, 'name': 'Whitney Houston'},...   \n",
       "4  11862  [{'cast_id': 67773, 'name': 'Steve Martin'}, {...   \n",
       "\n",
       "                                        directors  \n",
       "0    [{'cast_id': 7879, 'name': 'John Lasseter'}]  \n",
       "1     [{'cast_id': 4945, 'name': 'Joe Johnston'}]  \n",
       "2   [{'cast_id': 26502, 'name': 'Howard Deutch'}]  \n",
       "3  [{'cast_id': 2178, 'name': 'Forest Whitaker'}]  \n",
       "4   [{'cast_id': 56106, 'name': 'Charles Shyer'}]  "
      ]
     },
     "execution_count": 28,
     "metadata": {},
     "output_type": "execute_result"
    }
   ],
   "source": [
    "casts.head()"
   ]
  },
  {
   "cell_type": "code",
   "execution_count": 32,
   "metadata": {},
   "outputs": [
    {
     "data": {
      "text/plain": [
       "50141"
      ]
     },
     "execution_count": 32,
     "metadata": {},
     "output_type": "execute_result"
    }
   ],
   "source": [
    "len(info)"
   ]
  },
  {
   "cell_type": "markdown",
   "metadata": {},
   "source": [
    "we store the result in file"
   ]
  },
  {
   "cell_type": "code",
   "execution_count": 36,
   "metadata": {},
   "outputs": [],
   "source": [
    "pd.merge(info, casts, how='inner', on = 'id').to_csv('data_movies.csv',index=False)"
   ]
  }
 ],
 "metadata": {
  "interpreter": {
   "hash": "e4ec2cb6c0c4917e93c63c232a48c62049165809d72f1d83c3d9b4c0318b626a"
  },
  "kernelspec": {
   "display_name": "Python 3.9.13 64-bit (windows store)",
   "language": "python",
   "name": "python3"
  },
  "language_info": {
   "codemirror_mode": {
    "name": "ipython",
    "version": 3
   },
   "file_extension": ".py",
   "mimetype": "text/x-python",
   "name": "python",
   "nbconvert_exporter": "python",
   "pygments_lexer": "ipython3",
   "version": "3.9.13"
  },
  "orig_nbformat": 4
 },
 "nbformat": 4,
 "nbformat_minor": 2
}
